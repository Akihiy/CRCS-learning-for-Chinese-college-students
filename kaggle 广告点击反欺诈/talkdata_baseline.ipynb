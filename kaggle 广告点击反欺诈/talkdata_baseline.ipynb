{
 "cells": [
  {
   "cell_type": "code",
   "execution_count": 1,
   "metadata": {},
   "outputs": [],
   "source": [
    "import gc\n",
    "import time\n",
    "import numpy as np\n",
    "import pandas as pd\n",
    "from sklearn.model_selection import train_test_split\n",
    "import xgboost as xgb"
   ]
  },
  {
   "cell_type": "code",
   "execution_count": 2,
   "metadata": {},
   "outputs": [],
   "source": [
    "path = './input/'\n",
    "\n",
    "train_columns = ['ip', 'app', 'device', 'os', 'channel', 'click_time', 'is_attributed']\n",
    "test_columns  = ['ip', 'app', 'device', 'os', 'channel', 'click_time', 'click_id']\n",
    "dtypes = {\n",
    "        'ip'            : 'uint32',\n",
    "        'app'           : 'uint16',\n",
    "        'device'        : 'uint16',\n",
    "        'os'            : 'uint16',\n",
    "        'channel'       : 'uint16',\n",
    "        'is_attributed' : 'uint8',\n",
    "        'click_id'      : 'uint32'\n",
    "        }\n",
    "\n",
    "train = pd.read_csv(path+'train.csv', usecols=train_columns, dtype=dtypes)\n",
    "test = pd.read_csv(path+'test.csv', usecols=test_columns, dtype=dtypes)"
   ]
  },
  {
   "cell_type": "code",
   "execution_count": 3,
   "metadata": {},
   "outputs": [
    {
     "name": "stdout",
     "output_type": "stream",
     "text": [
      "(184903890, 7) (18790469, 7)\n"
     ]
    }
   ],
   "source": [
    "print(train.shape, test.shape)"
   ]
  },
  {
   "cell_type": "code",
   "execution_count": 4,
   "metadata": {},
   "outputs": [
    {
     "data": {
      "text/plain": [
       "0"
      ]
     },
     "execution_count": 4,
     "metadata": {},
     "output_type": "execute_result"
    }
   ],
   "source": [
    "# 训练集label\n",
    "y_train = train['is_attributed'].values\n",
    "# 删除多余变量\n",
    "del train['is_attributed']\n",
    "sub = test[['click_id']]\n",
    "del test['click_id']\n",
    "# 训练集与测试集合并\n",
    "nrow_train = train.shape[0]\n",
    "data = pd.concat([train, test], axis=0)\n",
    "del train, test\n",
    "gc.collect()"
   ]
  },
  {
   "cell_type": "code",
   "execution_count": 5,
   "metadata": {},
   "outputs": [
    {
     "data": {
      "text/plain": [
       "13"
      ]
     },
     "execution_count": 5,
     "metadata": {},
     "output_type": "execute_result"
    }
   ],
   "source": [
    "for f in ['ip','app','device','os','channel']:\n",
    "    data[f+'_cnts'] = data.groupby([f])['click_time'].transform('count')\n",
    "\n",
    "data['click_time'] = pd.to_datetime(data['click_time'])\n",
    "data['days'] = data['click_time'].dt.day  \n",
    "data['hours_in_day'] = data['click_time'].dt.hour \n",
    "data['day_of_week'] = data['click_time'].dt.dayofweek \n",
    "\n",
    "train = data[:nrow_train]\n",
    "test = data[nrow_train:]\n",
    "del data\n",
    "gc.collect()"
   ]
  },
  {
   "cell_type": "code",
   "execution_count": 6,
   "metadata": {},
   "outputs": [],
   "source": [
    "cols = [f for f in train.columns if f not in ['click_time']]"
   ]
  },
  {
   "cell_type": "code",
   "execution_count": 8,
   "metadata": {},
   "outputs": [
    {
     "name": "stdout",
     "output_type": "stream",
     "text": [
      "[21:32:02] Tree method is automatically selected to be 'approx' for faster speed. to use old behavior(exact greedy algorithm on single machine), set tree_method to 'exact'\n",
      "[0]\ttrain-auc:0.963463\tvalid-auc:0.962897\n",
      "Multiple eval metrics have been passed: 'valid-auc' will be used for early stopping.\n",
      "\n",
      "Will train until valid-auc hasn't improved in 20 rounds.\n",
      "[10]\ttrain-auc:0.969029\tvalid-auc:0.968335\n",
      "[20]\ttrain-auc:0.971793\tvalid-auc:0.970815\n",
      "[30]\ttrain-auc:0.974514\tvalid-auc:0.972974\n",
      "[40]\ttrain-auc:0.976252\tvalid-auc:0.973998\n",
      "[50]\ttrain-auc:0.977784\tvalid-auc:0.974714\n",
      "[60]\ttrain-auc:0.978459\tvalid-auc:0.975059\n",
      "[70]\ttrain-auc:0.979047\tvalid-auc:0.975191\n",
      "[80]\ttrain-auc:0.979595\tvalid-auc:0.975238\n",
      "[90]\ttrain-auc:0.980047\tvalid-auc:0.975299\n",
      "[100]\ttrain-auc:0.980454\tvalid-auc:0.975339\n",
      "[110]\ttrain-auc:0.980931\tvalid-auc:0.97536\n",
      "[120]\ttrain-auc:0.981351\tvalid-auc:0.975342\n",
      "[130]\ttrain-auc:0.981737\tvalid-auc:0.975344\n",
      "Stopping. Best iteration:\n",
      "[113]\ttrain-auc:0.981055\tvalid-auc:0.975366\n",
      "\n"
     ]
    }
   ],
   "source": [
    "params = {'eta': 0.2,\n",
    "          'max_leaves': 2**9-1,  \n",
    "          'max_depth': 9, \n",
    "          'subsample': 0.7, \n",
    "          'colsample_bytree': 0.9, \n",
    "          'objective': 'binary:logistic', \n",
    "          'scale_pos_weight':9,\n",
    "          'eval_metric': 'auc', \n",
    "          'n_jobs':24,\n",
    "          'random_state': 2020,\n",
    "          'silent': True}\n",
    "          \n",
    "trn_x, val_x, trn_y, val_y = train_test_split(train[cols], y_train, test_size=0.2, random_state=2020)\n",
    "dtrain = xgb.DMatrix(trn_x, trn_y)\n",
    "dvalid = xgb.DMatrix(val_x, val_y)\n",
    "del trn_x, val_x, trn_y, val_y \n",
    "gc.collect()\n",
    "watchlist = [(dtrain, 'train'), (dvalid, 'valid')]\n",
    "model = xgb.train(params, dtrain, 200, watchlist, early_stopping_rounds = 20, verbose_eval=10)"
   ]
  },
  {
   "cell_type": "code",
   "execution_count": 10,
   "metadata": {},
   "outputs": [],
   "source": [
    "dtest = xgb.DMatrix(test[cols])\n",
    "sub['is_attributed'] = None\n",
    "sub['is_attributed'] = model.predict(dtest, ntree_limit=model.best_ntree_limit)\n",
    "sub.to_csv('talkingdata_baseline.csv', index=False)"
   ]
  },
  {
   "cell_type": "code",
   "execution_count": null,
   "metadata": {},
   "outputs": [],
   "source": []
  }
 ],
 "metadata": {
  "kernelspec": {
   "display_name": "Python 3",
   "language": "python",
   "name": "python3"
  },
  "language_info": {
   "codemirror_mode": {
    "name": "ipython",
    "version": 3
   },
   "file_extension": ".py",
   "mimetype": "text/x-python",
   "name": "python",
   "nbconvert_exporter": "python",
   "pygments_lexer": "ipython3",
   "version": "3.8.8"
  }
 },
 "nbformat": 4,
 "nbformat_minor": 4
}
